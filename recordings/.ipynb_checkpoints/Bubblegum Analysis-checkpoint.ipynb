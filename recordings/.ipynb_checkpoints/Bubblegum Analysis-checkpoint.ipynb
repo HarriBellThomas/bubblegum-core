{
 "cells": [
  {
   "cell_type": "code",
   "execution_count": null,
   "metadata": {},
   "outputs": [],
   "source": [
    "import csv\n",
    "import matplotlib.pyplot as plt\n",
    "import random"
   ]
  },
  {
   "cell_type": "code",
   "execution_count": null,
   "metadata": {},
   "outputs": [],
   "source": [
    "def zipAndExport(times, values, outputFile):\n",
    "    with open(\"exports/\" + outputFile + \".csv\", 'w+') as f:\n",
    "        f.write(\"time,data\\n\")\n",
    "        for i in range(0,len(times)):\n",
    "            f.write(str(int(times[i])) + \",\" + str(values[i]) + \"\\n\")"
   ]
  },
  {
   "cell_type": "code",
   "execution_count": null,
   "metadata": {},
   "outputs": [],
   "source": [
    "file = \"recording8-10000.csv\"\n",
    "title = \"alpha-20000\"\n",
    "modulo = 50\n",
    "rand_low = 1\n",
    "rand_high = 1\n",
    "\n",
    "csvfile = open(file)\n",
    "reader = csv.reader(csvfile, delimiter=',')\n",
    "headers = next(reader, None)\n",
    "print(headers)\n",
    "csvfile.close()\n",
    "\n",
    "valueLambdas = []\n",
    "valueLambdaLabels = []\n",
    "\n",
    "rpcs = headers.index(\"rpcs\")\n",
    "valueLambdas.append(lambda row : float(row[rpcs].strip(' \"')))\n",
    "valueLambdaLabels.append(\"rpcs\")\n",
    "\n",
    "                    \n",
    "avgLoad = headers.index(\"avgLoad\")\n",
    "valueLambdas.append(lambda row : 100*min(1,float(row[avgLoad].strip(' \"')) * random.uniform(rand_low,rand_high)))\n",
    "valueLambdaLabels.append(\"avgLoad\")\n",
    "\n",
    "totalMemory = headers.index(\"totalMemory\")\n",
    "freeMemory = headers.index(\"freeMemory\")\n",
    "valueLambdas.append(lambda row : ((float(row[totalMemory].strip(' \"')) - float(row[freeMemory].strip(' \"'))) * random.uniform(rand_low,rand_high)) / 1000000)\n",
    "valueLambdaLabels.append(\"memory\")\n",
    "\n",
    "for i in range(0, len(valueLambdas)):\n",
    "    times = []\n",
    "    values = []\n",
    "    moduloIndex = 0\n",
    "    previousValues = []\n",
    "    csvfile = open(file)\n",
    "    reader = csv.reader(csvfile, delimiter=',')\n",
    "    headers = next(reader, None)\n",
    "    for row in reader:\n",
    "        if moduloIndex % modulo == 0 and moduloIndex > modulo:\n",
    "            times.append((float(row[0].strip(' \"')) / 1000) / 60)\n",
    "            values.append((sum(previousValues) + valueLambdas[i](row)) / (len(previousValues) + 1))\n",
    "            previousValues = []\n",
    "        else:\n",
    "            previousValues.append(valueLambdas[i](row))\n",
    "        moduloIndex = moduloIndex + 1\n",
    "    csvfile.close()\n",
    "    \n",
    "    zipAndExport(times, values, title + \"-\" + valueLambdaLabels[i])\n",
    "    plt.plot(times, values)\n",
    "    plt.show()"
   ]
  },
  {
   "cell_type": "code",
   "execution_count": null,
   "metadata": {},
   "outputs": [],
   "source": []
  }
 ],
 "metadata": {
  "kernelspec": {
   "display_name": "Python 3",
   "language": "python",
   "name": "python3"
  }
 },
 "nbformat": 4,
 "nbformat_minor": 2
}
